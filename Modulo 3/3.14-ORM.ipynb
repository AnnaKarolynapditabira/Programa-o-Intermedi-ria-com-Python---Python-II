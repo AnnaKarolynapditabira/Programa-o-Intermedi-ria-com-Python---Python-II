{
 "cells": [
  {
   "cell_type": "markdown",
   "metadata": {},
   "source": [
    "> Projeto Desenvolve <br>\n",
    "Programação Intermediária com Python <br>\n",
    "Profa. Camila Laranjeira (mila@projetodesenvolve.com.br) <br>\n",
    "\n",
    "# 3.14 - ORM"
   ]
  },
  {
   "cell_type": "markdown",
   "metadata": {},
   "source": [
    "## Exercícios\n",
    "\n",
    "#### Q1. Conhecendo os dados\n",
    "Baixe o seguinte csv onde iremos trabalhar. Ele contém informações sobre salários de profissionais de dados de uma empresa hipotética entre 2009 e 2016\n",
    "* https://github.com/camilalaranjeira/python-intermediario/blob/main/salaries.csv\n",
    "\n",
    "Suas colunas, descritas na [página do Kaggle que contém o dataset](https://www.kaggle.com/datasets/krishujeniya/salary-prediction-of-data-professions?resource=download), são:\n",
    "* FIRST NAME: Primeiro nome do profissional de dados (String)\n",
    "* LAST NAME: Sobrenome do profissional de dados (String)\n",
    "* SEX: Gênero do profissional de dados (String: 'F' para Feminino, 'M' para Masculino)\n",
    "* DOJ (Date of Joining): A data em que o profissional de dados ingressou na empresa (Data no formato MM/DD/AAAA)\n",
    "* CURRENT DATE: A data atual ou a data de referência dos dados (Data no formato MM/DD/AAAA)\n",
    "* DESIGNATION: O cargo ou designação do profissional de dados (String: ex., Analista, Analista Sênior, Gerente)\n",
    "* AGE: Idade do profissional de dados (Integer)\n",
    "* SALARY: Salário anual do profissional de dados (Float)\n",
    "* UNIT: Unidade de negócios ou departamento em que o profissional de dados trabalha (String: ex., TI, Finanças, Marketing)\n",
    "* LEAVES USED: Número de licenças utilizadas pelo profissional de dados (Integer)\n",
    "* LEAVES REMAINING: Número de licenças restantes para o profissional de dados (Integer)\n",
    "* RATINGS: Avaliações de desempenho do profissional de dados (Float)\n",
    "* PAST EXP: Experiência de trabalho anterior em anos antes de ingressar na empresa atual (Float)\n",
    "\n",
    "Na célula a seguir, **carregue os dados do CSV e dê uma olhada neles antes de seguir**."
   ]
  },
  {
   "cell_type": "code",
   "execution_count": null,
   "metadata": {},
   "outputs": [],
   "source": [
    "from typing import List\n",
    "from pydantic import BaseModel\n",
    "\n",
    "\n",
    "class HourlyUnits(BaseModel):\n",
    "    time: str\n",
    "    temperature_2m: str\n",
    "\n",
    "\n",
    "class Hourly(BaseModel):\n",
    "    time: List[str]\n",
    "    temperature_2m: List[float]\n",
    "\n",
    "\n",
    "class OpenMeteo(BaseModel):\n",
    "    latitude: float\n",
    "    longitude: float\n",
    "    generationtime_ms: float\n",
    "    utc_offset_seconds: int\n",
    "    timezone: str\n",
    "    timezone_abbreviation: str\n",
    "    elevation: float\n",
    "    hourly_units: HourlyUnits\n",
    "    hourly: Hourly\n"
   ]
  },
  {
   "cell_type": "markdown",
   "metadata": {},
   "source": [
    "#### Q2. Modelando os dados\n",
    "Você deve **criar um ORM com SQLAlchemy capaz de comportar os dados dessa base**.\n",
    "\n",
    "* Crie um campo de chave primária `ID`, que deve ser incrementado automaticamente\n",
    "* Os campos SEX, DESIGNATION e UNIT devem ser definidos como classes `Enum` com os possíveis valores (consulte os valores únicos dessas colunas)\n",
    "* Para os outros campos, consulte os tipos de dados informados na descrição acima"
   ]
  },
  {
   "cell_type": "code",
   "execution_count": null,
   "metadata": {},
   "outputs": [],
   "source": [
    "from sqlalchemy import create_engine, Column, Integer, String, Float, Date, Enum\n",
    "from sqlalchemy.ext.declarative import declarative_base\n",
    "import enum\n",
    "Base = declarative_base()\n",
    "class SexoEnum(enum.Enum):\n",
    "    F = \"F\"\n",
    "    M = \"M\"\n",
    "\n",
    "class DesignacaoEnum(enum.Enum):\n",
    "    JuniorAnalyst = \"Junior Analyst\"\n",
    "    Analyst = \"Analyst\"\n",
    "    SeniorAnalyst = \"Senior Analyst\"\n",
    "    Manager = \"Manager\"\n",
    "    AVP = \"AVP\"\n",
    "    VP = \"VP\"\n",
    "\n",
    "class UnidadeEnum(enum.Enum):\n",
    "    IT = \"IT\"\n",
    "    Finance = \"Finance\"\n",
    "    HR = \"HR\"\n",
    "    Marketing = \"Marketing\"\n",
    "    Legal = \"Legal\"\n",
    "class Profissional(Base):\n",
    "    __tablename__ = 'profissionais'\n",
    "\n",
    "    id = Column(Integer, primary_key=True, autoincrement=True)\n",
    "    first_name = Column(String, nullable=False)\n",
    "    last_name = Column(String, nullable=False)\n",
    "    sex = Column(Enum(SexoEnum), nullable=False)\n",
    "    doj = Column(Date, nullable=False)  # Date of Joining\n",
    "    current_date = Column(Date, nullable=False)\n",
    "    designation = Column(Enum(DesignacaoEnum), nullable=False)\n",
    "    age = Column(Integer, nullable=False)\n",
    "    salary = Column(Float, nullable=False)\n",
    "    unit = Column(Enum(UnidadeEnum), nullable=False)\n",
    "    leaves_used = Column(Integer, nullable=False)\n",
    "    leaves_remaining = Column(Integer, nullable=False)\n",
    "    ratings = Column(Float, nullable=False)\n",
    "    past_exp = Column(Float, nullable=False)\n",
    "engine = create_engine('sqlite:///salaries.db')\n",
    "Base.metadata.create_all(engine)\n"
   ]
  },
  {
   "cell_type": "markdown",
   "metadata": {
    "vscode": {
     "languageId": "plaintext"
    }
   },
   "source": [
    "#### Q3. Estabelecendo uma conexão\n",
    "\n",
    "Usando o método `create_engine` do SQLAlchemy, crie uma conexão com um novo banco de dados SQLite chamado `salarios`."
   ]
  },
  {
   "cell_type": "code",
   "execution_count": null,
   "metadata": {},
   "outputs": [],
   "source": [
    "from sqlalchemy import create_engine\n",
    "\n",
    "# Criação da engine e conexão com o banco SQLite\n",
    "engine = create_engine('sqlite:///salarios.db')\n"
   ]
  },
  {
   "cell_type": "markdown",
   "metadata": {},
   "source": [
    "#### Q4. Criando as tabelas\n",
    "Crie as tabelas da questão Q2 no banco `salarios`."
   ]
  },
  {
   "cell_type": "code",
   "execution_count": null,
   "metadata": {},
   "outputs": [],
   "source": [
    "from sqlalchemy import create_engine, Column, Integer, String, Float, Date\n",
    "from sqlalchemy.ext.declarative import declarative_base\n",
    "from sqlalchemy.orm import sessionmaker\n",
    "\n",
    "# Conexão com o banco\n",
    "engine = create_engine('sqlite:///salarios.db')\n",
    "Base = declarative_base()\n",
    "\n",
    "# Modelo da tabela\n",
    "class Profissional(Base):\n",
    "    __tablename__ = 'profissionais'\n",
    "\n",
    "    id = Column(Integer, primary_key=True, autoincrement=True)\n",
    "    first_name = Column(String)\n",
    "    last_name = Column(String)\n",
    "    sex = Column(String)\n",
    "    doj = Column(Date)\n",
    "    current_date = Column(Date)\n",
    "    designation = Column(String)\n",
    "    age = Column(Integer)\n",
    "    salary = Column(Float)\n",
    "    unit = Column(String)\n",
    "    leaves_used = Column(Integer)\n",
    "    leaves_remaining = Column(Integer)\n",
    "    ratings = Column(Float)\n",
    "    past_exp = Column(Float)\n",
    "# Criação da(s) tabela(s) no banco\n",
    "Base.metadata.create_all(engine)\n"
   ]
  },
  {
   "cell_type": "markdown",
   "metadata": {},
   "source": [
    "#### Q5. Populando\n",
    "\n",
    "Usando o método `to_sql` da biblioteca Pandas (veja [a documentação](https://pandas.pydata.org/docs/reference/api/pandas.DataFrame.to_sql.html)), popule o banco `salarios` com os dados do csv que você carregou na questão Q1.\n",
    "* Lembre-se de definir o parâmetro `if_exists='append'` para que as tabelas não sejam dropadas e recriadas."
   ]
  },
  {
   "cell_type": "code",
   "execution_count": null,
   "metadata": {},
   "outputs": [],
   "source": [
    "import pandas as pd\n",
    "from sqlalchemy import create_engine\n",
    "\n",
    "# 1. Carregar os dados do CSV (ajuste o caminho se necessário)\n",
    "df = pd.read_csv(\"salaries.csv\", parse_dates=['DOJ', 'CURRENT DATE'])\n",
    "\n",
    "# 2. Conectar ao banco de dados SQLite\n",
    "engine = create_engine(\"sqlite:///salarios.db\")\n",
    "\n",
    "# 3. Popular a tabela com os dados usando to_sql\n",
    "df.to_sql(\n",
    "    name='profissionais',\n",
    "    con=engine,\n",
    "    if_exists='append',  # não apaga a tabela, apenas adiciona\n",
    "    index=False           # não adiciona uma coluna de índice\n",
    ")\n"
   ]
  },
  {
   "cell_type": "markdown",
   "metadata": {},
   "source": [
    "#### Q6. Consultas SQL vs ORM\n",
    "\n",
    "Agrupe os dados por DESIGNATION e selecione o mínimo, máximo e a média dos salários (SALARY) divididos por 12. Já que o atributo SALARY é anual, dividir por 12 nos mostrará os valores mensais.\n",
    "\n",
    "Assumindo que a variável que armazena a sua conexão se chama `engine`, você deve realizar a query acima de três formas:\n",
    "* Executando a query SQL através de uma instância de conexão retornada pelo método `engine.connect()`\n",
    "* Executando a query SQL com o método `read_sql_query` do Pandas (veja [a documentação](https://pandas.pydata.org/docs/reference/api/pandas.read_sql_query.html)). Você usará mesma instância `engine.connect()` como um dos parâmetros.\n",
    "* Executando uma query criada com o módulo `select` do SQLAlchemy. Sua execução deve ser feita através de um objeto `Session` do módulo `orm` do SQLAlchemy (`Session(engine)`).\n"
   ]
  },
  {
   "cell_type": "code",
   "execution_count": null,
   "metadata": {},
   "outputs": [],
   "source": [
    "from sqlalchemy import create_engine, text\n",
    "\n",
    "engine = create_engine(\"sqlite:///salarios.db\")\n",
    "\n",
    "query = \"\"\"\n",
    "SELECT \n",
    "    DESIGNATION, \n",
    "    MIN(SALARY) / 12 AS salario_min_mensal,\n",
    "    MAX(SALARY) / 12 AS salario_max_mensal,\n",
    "    AVG(SALARY) / 12 AS salario_medio_mensal\n",
    "FROM profissionais\n",
    "GROUP BY DESIGNATION;\n",
    "\"\"\"\n",
    "\n",
    "with engine.connect() as conn:\n",
    "    result = conn.execute(text(query))\n",
    "    for row in result:\n",
    "        print(row)\n"
   ]
  },
  {
   "cell_type": "code",
   "execution_count": null,
   "metadata": {},
   "outputs": [],
   "source": [
    "import pandas as pd\n",
    "\n",
    "with engine.connect() as conn:\n",
    "    df_result = pd.read_sql_query(query, conn)\n",
    "\n",
    "print(df_result)\n"
   ]
  },
  {
   "cell_type": "code",
   "execution_count": null,
   "metadata": {},
   "outputs": [],
   "source": [
    "from sqlalchemy.orm import Session\n",
    "from sqlalchemy import select, func, column, Table, MetaData\n",
    "\n",
    "# Carregar metadados dinamicamente\n",
    "metadata = MetaData()\n",
    "profissionais = Table(\"profissionais\", metadata, autoload_with=engine)\n",
    "\n",
    "stmt = select(\n",
    "    profissionais.c.DESIGNATION,\n",
    "    (func.min(profissionais.c.SALARY) / 12).label(\"salario_min_mensal\"),\n",
    "    (func.max(profissionais.c.SALARY) / 12).label(\"salario_max_mensal\"),\n",
    "    (func.avg(profissionais.c.SALARY) / 12).label(\"salario_medio_mensal\")\n",
    ").group_by(profissionais.c.DESIGNATION)\n",
    "\n",
    "with Session(engine) as session:\n",
    "    results = session.execute(stmt).all()\n",
    "    for row in results:\n",
    "        print(row)\n"
   ]
  }
 ],
 "metadata": {
  "language_info": {
   "name": "python"
  }
 },
 "nbformat": 4,
 "nbformat_minor": 2
}
