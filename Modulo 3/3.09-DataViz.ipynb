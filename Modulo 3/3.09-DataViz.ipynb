{
 "cells": [
  {
   "cell_type": "markdown",
   "metadata": {},
   "source": [
    "> Projeto Desenvolve <br>\n",
    "Programação Intermediária com Python <br>\n",
    "Profa. Camila Laranjeira (mila@projetodesenvolve.com.br) <br>\n",
    "\n",
    "# 3.9 - Visualização de Dados"
   ]
  },
  {
   "cell_type": "markdown",
   "metadata": {
    "vscode": {
     "languageId": "plaintext"
    }
   },
   "source": [
    "## Exercícios\n",
    "Vamos trabalhar com as mesmas bases de dados do exercício de Pandas. Aqui estão os links caso você queira baixar novamente, mas recomendo trabalhar com o `wc_formatado.csv` que exportamos na questão Q2 do exercício anterior.\n",
    "\n",
    "* https://raw.githubusercontent.com/camilalaranjeira/python-intermediario/main/fifa-wc/matches_1930_2022.csv\n",
    "* https://raw.githubusercontent.com/camilalaranjeira/python-intermediario/main/fifa-wc/matches_1991_2023.csv\n",
    "\n",
    "Para relembrar, essas são as colunas do dataframe:\n",
    "```\n",
    "Data columns (total 21 columns):\n",
    " #   Column             Non-Null Count  Dtype         \n",
    "---  ------             --------------  -----         \n",
    " 0   time_1             1312 non-null   string        \n",
    " 1   time_2             1312 non-null   string        \n",
    " 2   gols_1             1312 non-null   int64         \n",
    " 3   gols_2             1312 non-null   int64         \n",
    " 4   data               1312 non-null   datetime64[ns]\n",
    " 5   ano                1312 non-null   int64         \n",
    " 6   país_sede          1312 non-null   string        \n",
    " 7   comparecimento     1312 non-null   int64         \n",
    " 8   resultado          1312 non-null   string        \n",
    " 9   rodada             1312 non-null   category      \n",
    " 10  gols_1_detalhes    970 non-null    string        \n",
    " 11  gols_2_detalhes    771 non-null    string        \n",
    " 12  gols_1_contra      57 non-null     string        \n",
    " 13  gols_2_contra      30 non-null     string        \n",
    " 14  gols_1_penalti     170 non-null    string        \n",
    " 15  gols_2_penalti     119 non-null    string        \n",
    " 16  cartao_vermelho_1  59 non-null     string        \n",
    " 17  cartao_vermelho_2  65 non-null     string        \n",
    " 18  cartao_amarelo_1   834 non-null    string        \n",
    " 19  cartao_amarelo_2   857 non-null    string        \n",
    " 20  copa               1312 non-null   string \n",
    "```"
   ]
  },
  {
   "cell_type": "markdown",
   "metadata": {},
   "source": [
    "#### Q1.\n",
    "Realize todos os imports necessários para executar as três bibliotecas de visualização que conhecemos:\n",
    "* Matplotlib (lembre-se do comando mágico)\n",
    "* Seaborn\n",
    "* Plotly\n",
    "\n",
    "Para cada uma delas, altere o tema padrão de visualização. "
   ]
  },
  {
   "cell_type": "code",
   "execution_count": null,
   "metadata": {},
   "outputs": [],
   "source": [
    "# Bibliotecas de visualização\n",
    "import matplotlib.pyplot as plt\n",
    "import seaborn as sns\n",
    "import plotly.express as px\n",
    "import plotly.io as pio\n",
    "\n",
    "# Comando mágico para notebooks Jupyter (ativa exibição inline de gráficos Matplotlib)\n",
    "%matplotlib inline\n",
    "\n",
    "# Pandas para manipulação de dados\n",
    "import pandas as pd\n",
    "\n",
    "# Carregar o dataframe já formatado (como no exercício anterior)\n",
    "wc = pd.read_csv('wc_formatado.csv', parse_dates=['data'])\n",
    "# Altera o estilo global do matplotlib\n",
    "plt.style.use('seaborn-vibrant')  # ou 'ggplot', 'seaborn-darkgrid', etc.\n",
    "# Define o estilo do seaborn\n",
    "sns.set_theme(style=\"darkgrid\")  # Opções: darkgrid, whitegrid, dark, white, ticks\n",
    "# Define o template padrão do plotly\n",
    "pio.templates.default = \"plotly_dark\"  # Outras opções: \"plotly_white\", \"ggplot2\", \"seaborn\"\n",
    "\n"
   ]
  },
  {
   "cell_type": "markdown",
   "metadata": {
    "vscode": {
     "languageId": "plaintext"
    }
   },
   "source": [
    "#### Q2.\n",
    "Sobre os dados de copa do mundo, qual a distribuição de público presente nos jogos? Isso pode ser respondido com um histograma com os dados da coluna `comparecimento`.  \n",
    "\n",
    "Lembre-se que alguns jogos estavam com público 0 incorretamente, que tal remover essas ocorrências para não atrapalhar sua visualzação?\n",
    "\n",
    "Você deve implementar essa visualização nas três bibliotecas que vimos:\n",
    "* Matplotlib\n",
    "* Seaborn\n",
    "* Plotly\n",
    "\n",
    "Garanta que o gráfico tenha pelo menos os atributos de título e rótulos de dimensão."
   ]
  },
  {
   "cell_type": "code",
   "execution_count": null,
   "metadata": {},
   "outputs": [],
   "source": [
    "#### Solução com matplotlib\n",
    "import matplotlib.pyplot as plt\n",
    "\n",
    "plt.figure(figsize=(10, 6))\n",
    "plt.hist(wc_validos['comparecimento'], bins=30, color='skyblue', edgecolor='black')\n",
    "plt.title('Distribuição de Público nos Jogos da Copa do Mundo (Matplotlib)')\n",
    "plt.xlabel('Público presente')\n",
    "plt.ylabel('Quantidade de jogos')\n",
    "plt.grid(True)\n",
    "plt.tight_layout()\n",
    "plt.show()\n"
   ]
  },
  {
   "cell_type": "code",
   "execution_count": null,
   "metadata": {},
   "outputs": [],
   "source": [
    "#### solução com seaborn\n",
    "import seaborn as sns\n",
    "\n",
    "plt.figure(figsize=(10, 6))\n",
    "sns.histplot(wc_validos['comparecimento'], bins=30, color='orange', edgecolor='black')\n",
    "plt.title('Distribuição de Público nos Jogos da Copa do Mundo (Seaborn)')\n",
    "plt.xlabel('Público presente')\n",
    "plt.ylabel('Quantidade de jogos')\n",
    "plt.tight_layout()\n",
    "plt.show()\n"
   ]
  },
  {
   "cell_type": "code",
   "execution_count": null,
   "metadata": {},
   "outputs": [],
   "source": [
    "#### solução com plotly\n",
    "import plotly.express as px\n",
    "\n",
    "fig = px.histogram(\n",
    "    wc_validos,\n",
    "    x='comparecimento',\n",
    "    nbins=30,\n",
    "    title='Distribuição de Público nos Jogos da Copa do Mundo (Plotly)',\n",
    "    labels={'comparecimento': 'Público presente'},\n",
    "    color_discrete_sequence=['#636EFA']\n",
    ")\n",
    "fig.update_layout(\n",
    "    xaxis_title='Público presente',\n",
    "    yaxis_title='Quantidade de jogos',\n",
    "    bargap=0.1\n",
    ")\n",
    "fig.show()\n"
   ]
  },
  {
   "cell_type": "markdown",
   "metadata": {},
   "source": [
    "#### Q3.\n",
    "\n",
    "Apresente um gráfico de dispersão (scatter) dos atributos `gols_1` e `gols_2`. Isso representa a relação entre gols feitos e gols tomados por jogo. Há alguma relação interessante entre esses atributos?\n",
    "\n",
    "Para facilitar a visualização dos dados (já que tem muitos placares repetidos), aplique uma leve distorção aos dados para que cada ponto esteja deslocado aleatoriamente de seu valor original. Código apresentado a seguir\n",
    "```python\n",
    "gols = wc[['gols_1', 'gols_2']] * np.random.random((len(wc),2))\n",
    "```\n",
    "\n",
    "Você deve implementar essa visualização nas três bibliotecas que vimos:\n",
    "* Matplotlib\n",
    "* Seaborn\n",
    "* Plotly\n",
    "\n",
    "Garanta que o gráfico tenha pelo menos os atributos de título e rótulos de dimensão."
   ]
  },
  {
   "cell_type": "code",
   "execution_count": null,
   "metadata": {},
   "outputs": [],
   "source": [
    "#### solução com matplotlib\n",
    "plt.figure(figsize=(8, 6))\n",
    "plt.scatter(gols['gols_1'], gols['gols_2'], alpha=0.5, color='dodgerblue', edgecolors='k')\n",
    "plt.title('Relação entre Gols Feitos e Gols Sofridos (Matplotlib)')\n",
    "plt.xlabel('Gols feitos (time_1)')\n",
    "plt.ylabel('Gols sofridos (time_2)')\n",
    "plt.grid(True)\n",
    "plt.tight_layout()\n",
    "plt.show()\n",
    "\n"
   ]
  },
  {
   "cell_type": "code",
   "execution_count": null,
   "metadata": {},
   "outputs": [],
   "source": [
    "#### solução com seaborn\n",
    "plt.figure(figsize=(8, 6))\n",
    "sns.scatterplot(x=gols['gols_1'], y=gols['gols_2'], alpha=0.5, color='orange', edgecolor='black')\n",
    "plt.title('Relação entre Gols Feitos e Gols Sofridos (Seaborn)')\n",
    "plt.xlabel('Gols feitos (time_1)')\n",
    "plt.ylabel('Gols sofridos (time_2)')\n",
    "plt.tight_layout()\n",
    "plt.show()\n"
   ]
  },
  {
   "cell_type": "code",
   "execution_count": null,
   "metadata": {},
   "outputs": [],
   "source": [
    "#### solução com plotly\n",
    "fig = px.scatter(\n",
    "    gols,\n",
    "    x='gols_1',\n",
    "    y='gols_2',\n",
    "    title='Relação entre Gols Feitos e Gols Sofridos (Plotly)',\n",
    "    labels={'gols_1': 'Gols feitos (time_1)', 'gols_2': 'Gols sofridos (time_2)'},\n",
    "    opacity=0.6\n",
    ")\n",
    "fig.update_traces(marker=dict(color='green'))\n",
    "fig.show()\n"
   ]
  },
  {
   "cell_type": "markdown",
   "metadata": {},
   "source": [
    "#### Q4.\n",
    "\n",
    "Apresente um gráfico de barras com o top 10 países que mais participaram de copas do mundo, onde no eixo x devem estar o nome dos países e no eixo y a contagem de participações. Você deve separar a contagem de participações em copas femininas e masculinas, empilhando as barras de cada informação.\n",
    "\n",
    "No exemplo de barras empilhadas da galeria do matplotlib, imagine que a parte azul são as participações do país em copas masculinas, e em laranja as participações femininas:\n",
    "* https://matplotlib.org/stable/gallery/lines_bars_and_markers/bar_stacked.html\n",
    "\n",
    "Você deve implementar essa visualização nas três bibliotecas que vimos:\n",
    "* Matplotlib\n",
    "* Seaborn\n",
    "* Plotly\n",
    "\n",
    "Garanta que o gráfico tenha pelo menos os atributos:\n",
    "* título\n",
    "* rótulos de dimensão.\n",
    "* legenda"
   ]
  },
  {
   "cell_type": "code",
   "execution_count": null,
   "metadata": {},
   "outputs": [],
   "source": [
    "# Total de participações por país e copa\n",
    "participacao_agrupada = participacao.groupby(['país', 'copa']).sum().reset_index()\n",
    "\n",
    "# Pivoteia para ter uma tabela com colunas 'Masculina' e 'Feminina'\n",
    "participacao_pivot = participacao_agrupada.pivot(index='país', columns='copa', values='num_copas').fillna(0)\n",
    "\n",
    "# Soma as participações para pegar os 10 maiores\n",
    "participacao_pivot['total'] = participacao_pivot.sum(axis=1)\n",
    "\n",
    "# Top 10 países com mais participações\n",
    "participacao_top10 = participacao_pivot.sort_values(by='total', ascending=False).head(10)\n",
    "\n",
    "# Ordena para exibição correta\n",
    "participacao_top10 = participacao_top10[['Masculina', 'Feminina']]\n"
   ]
  },
  {
   "cell_type": "code",
   "execution_count": null,
   "metadata": {},
   "outputs": [],
   "source": [
    "#### solução com matplotlib\n",
    "import matplotlib.pyplot as plt\n",
    "\n",
    "fig, ax = plt.subplots(figsize=(10, 6))\n",
    "\n",
    "paises = participacao_top10.index\n",
    "masculina = participacao_top10['Masculina']\n",
    "feminina = participacao_top10['Feminina']\n",
    "\n",
    "ax.bar(paises, masculina, label='Masculina', color='steelblue')\n",
    "ax.bar(paises, feminina, bottom=masculina, label='Feminina', color='coral')\n",
    "\n",
    "ax.set_title('Top 10 Países com Mais Participações em Copas (Matplotlib)')\n",
    "ax.set_xlabel('País')\n",
    "ax.set_ylabel('Número de Copas')\n",
    "ax.legend()\n",
    "plt.xticks(rotation=45)\n",
    "plt.tight_layout()\n",
    "plt.show()\n"
   ]
  },
  {
   "cell_type": "code",
   "execution_count": null,
   "metadata": {},
   "outputs": [],
   "source": [
    "#### solução com seaborn\n",
    "import seaborn as sns\n",
    "import pandas as pd\n",
    "\n",
    "# Converte para formato longo\n",
    "df_long = participacao_top10.reset_index().melt(id_vars='país', value_vars=['Masculina', 'Feminina'],\n",
    "                                                var_name='copa', value_name='num_copas')\n",
    "\n",
    "plt.figure(figsize=(10, 6))\n",
    "sns.barplot(data=df_long, x='país', y='num_copas', hue='copa', estimator=sum)\n",
    "\n",
    "plt.title('Top 10 Países com Mais Participações em Copas (Seaborn)')\n",
    "plt.xlabel('País')\n",
    "plt.ylabel('Número de Copas')\n",
    "plt.xticks(rotation=45)\n",
    "plt.tight_layout()\n",
    "plt.show()\n"
   ]
  },
  {
   "cell_type": "code",
   "execution_count": null,
   "metadata": {},
   "outputs": [],
   "source": [
    "#### solução com plotly\n",
    "import plotly.graph_objects as go\n",
    "\n",
    "fig = go.Figure()\n",
    "\n",
    "fig.add_trace(go.Bar(\n",
    "    x=participacao_top10.index,\n",
    "    y=participacao_top10['Masculina'],\n",
    "    name='Masculina',\n",
    "    marker_color='steelblue'\n",
    "))\n",
    "\n",
    "fig.add_trace(go.Bar(\n",
    "    x=participacao_top10.index,\n",
    "    y=participacao_top10['Feminina'],\n",
    "    name='Feminina',\n",
    "    marker_color='coral'\n",
    "))\n",
    "\n",
    "fig.update_layout(\n",
    "    barmode='stack',\n",
    "    title='Top 10 Países com Mais Participações em Copas (Plotly)',\n",
    "    xaxis_title='País',\n",
    "    yaxis_title='Número de Copas',\n",
    "    legend_title='Tipo de Copa'\n",
    ")\n",
    "\n",
    "fig.show()\n"
   ]
  },
  {
   "cell_type": "markdown",
   "metadata": {},
   "source": [
    "#### Q5.\n",
    "\n",
    "Vamos fazer um compilado com as estatísticas históricas de copas do mundo!\n",
    "\n",
    "Com a biblioteca de sua preferência você deve criar 4 subplots organizados em um grid de 2 linhas e 2 colunas. Eles devem conter os seguintes gráficos:\n",
    "* Linha 1, coluna 1: Gráfico de barras com a quantidade de jogos que aconteceram por ano\n",
    "* Linha 1, coluna 2: Gráfico de área (referências a seguir) com o total de gols por ano, separando as informações de `gols_1` e `gols_2` para distinguir gols em casa e do time visitante.\n",
    "* Linha 2, coluna 1: Gráfico de área com o total de cartões por ano, separando as informações de cartões amarelos e cartões vermelhos, mas agregando cartões do time 1 ou time 2. Ou seja, uma área com `cartao_amarelo_1 + cartao_amarelo_2` e outra área com `cartao_vermelho_1 + cartao_vermelho_2`.\n",
    "* Linha 2, coluna 2: Gráfico de barras com o total de gols contra por ano, somando `gols_contra_1` e `gols_contra_2`.\n",
    "\n",
    "Referências sobre gráfico de área\n",
    "* Matplotlib: https://matplotlib.org/stable/gallery/lines_bars_and_markers/stackplot_demo.html#sphx-glr-gallery-lines-bars-and-markers-stackplot-demo-py\n",
    "* Pandas + Matplotlib: https://pandas.pydata.org/docs/reference/api/pandas.DataFrame.plot.area.html\n",
    "* Seaborn: https://seaborn.pydata.org/generated/seaborn.objects.Area.html\n",
    "* Plotly: https://plotly.com/python/filled-area-plots/"
   ]
  },
  {
   "cell_type": "code",
   "execution_count": null,
   "metadata": {},
   "outputs": [],
   "source": [
    "import matplotlib.pyplot as plt\n",
    "\n",
    "fig, axs = plt.subplots(2, 2, figsize=(15, 10))\n",
    "\n",
    "# Gráfico 1: Barras de jogos por ano\n",
    "axs[0, 0].bar(jogos_por_ano.index, jogos_por_ano.values, color='mediumslateblue')\n",
    "axs[0, 0].set_title('Quantidade de Jogos por Ano')\n",
    "axs[0, 0].set_xlabel('Ano')\n",
    "axs[0, 0].set_ylabel('Número de Jogos')\n",
    "\n",
    "# Gráfico 2: Área de gols por ano\n",
    "axs[0, 1].stackplot(gols_por_ano.index, \n",
    "                    gols_por_ano['gols_1'], gols_por_ano['gols_2'], \n",
    "                    labels=['Gols Time da Casa', 'Gols Visitante'], \n",
    "                    colors=['lightgreen', 'salmon'])\n",
    "axs[0, 1].set_title('Total de Gols por Ano')\n",
    "axs[0, 1].set_xlabel('Ano')\n",
    "axs[0, 1].set_ylabel('Número de Gols')\n",
    "axs[0, 1].legend()\n",
    "\n",
    "# Gráfico 3: Área de cartões por ano\n",
    "axs[1, 0].stackplot(cartoes_amarelos_ano.index, \n",
    "                    cartoes_amarelos_ano.values, cartoes_vermelhos_ano.values, \n",
    "                    labels=['Cartões Amarelos', 'Cartões Vermelhos'], \n",
    "                    colors=['gold', 'red'])\n",
    "axs[1, 0].set_title('Total de Cartões por Ano')\n",
    "axs[1, 0].set_xlabel('Ano')\n",
    "axs[1, 0].set_ylabel('Número de Cartões')\n",
    "axs[1, 0].legend()\n",
    "\n",
    "# Gráfico 4: Gols contra por ano\n",
    "axs[1, 1].bar(gols_contra_total.index, gols_contra_total.values, color='gray')\n",
    "axs[1, 1].set_title('Total de Gols Contra por Ano')\n",
    "axs[1, 1].set_xlabel('Ano')\n",
    "axs[1, 1].set_ylabel('Número de Gols Contra')\n",
    "\n",
    "plt.tight_layout()\n",
    "plt.show()\n"
   ]
  }
 ],
 "metadata": {
  "language_info": {
   "name": "python"
  }
 },
 "nbformat": 4,
 "nbformat_minor": 2
}
